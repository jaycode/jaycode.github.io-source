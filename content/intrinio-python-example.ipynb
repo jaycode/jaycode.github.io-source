{
 "cells": [
  {
   "cell_type": "markdown",
   "metadata": {},
   "source": [
    "This mini-post shows a code snippet to get data from [Intrinio](https://intrinio.com) with Python.\n",
    "\n",
    "Prior to running this code, please set up your environment paths `INTRINIO_API_USERNAME` and `INTRINIO_API_PASSWORD` (i.e. by setting environment variables on Windows or including these variables in `.bashrc` in Linux)."
   ]
  },
  {
   "cell_type": "code",
   "execution_count": 12,
   "metadata": {
    "collapsed": true
   },
   "outputs": [],
   "source": [
    "from http.client import HTTPSConnection\n",
    "from base64 import b64encode\n",
    "import os\n",
    "import json\n",
    "\n",
    "#This sets up the https connection\n",
    "c = HTTPSConnection(\"api.intrinio.com\")\n",
    "\n",
    "# Prepare user and password headers.\n",
    "userAndPass = b64encode(bytearray(\"{}:{}\".format(os.environ['INTRINIO_API_USERNAME'],\n",
    "                                        os.environ['INTRINIO_API_PASSWORD']), \"utf-8\")).decode(\"ascii\")\n",
    "headers = { 'Authorization' : 'Basic %s' %  userAndPass }\n",
    "\n",
    "# Connect\n",
    "start_date = '1950-01-03'\n",
    "end_date = '1950-01-10'\n",
    "c.request('GET', '/prices?identifier=$SPX&start_date={}&end_date={}'.format(start_date, end_date), headers=headers)\n",
    "\n",
    "# Read response\n",
    "res = c.getresponse()\n",
    "json_data = res.read()\n",
    "\n",
    "# Convert json to Python dict object.\n",
    "data = json.loads(json_data)"
   ]
  },
  {
   "cell_type": "code",
   "execution_count": 3,
   "metadata": {
    "scrolled": false
   },
   "outputs": [
    {
     "data": {
      "text/plain": [
       "{'api_call_credits': 1,\n",
       " 'current_page': 1,\n",
       " 'data': [{'adj_factor': 1,\n",
       "   'close': 17.030001,\n",
       "   'date': '1950-01-10',\n",
       "   'high': 17.030001,\n",
       "   'low': 17.030001,\n",
       "   'open': 17.030001,\n",
       "   'volume': 2160000.0},\n",
       "  {'adj_factor': 1,\n",
       "   'close': 17.08,\n",
       "   'date': '1950-01-09',\n",
       "   'high': 17.08,\n",
       "   'low': 17.08,\n",
       "   'open': 17.08,\n",
       "   'volume': 2520000.0},\n",
       "  {'adj_factor': 1,\n",
       "   'close': 16.98,\n",
       "   'date': '1950-01-06',\n",
       "   'high': 16.98,\n",
       "   'low': 16.98,\n",
       "   'open': 16.98,\n",
       "   'volume': 2010000.0},\n",
       "  {'adj_factor': 1,\n",
       "   'close': 16.93,\n",
       "   'date': '1950-01-05',\n",
       "   'high': 16.93,\n",
       "   'low': 16.93,\n",
       "   'open': 16.93,\n",
       "   'volume': 2550000.0},\n",
       "  {'adj_factor': 1,\n",
       "   'close': 16.85,\n",
       "   'date': '1950-01-04',\n",
       "   'high': 16.85,\n",
       "   'low': 16.85,\n",
       "   'open': 16.85,\n",
       "   'volume': 1890000.0},\n",
       "  {'adj_factor': 1,\n",
       "   'close': 16.66,\n",
       "   'date': '1950-01-03',\n",
       "   'high': 16.66,\n",
       "   'low': 16.66,\n",
       "   'open': 16.66,\n",
       "   'volume': 1260000.0}],\n",
       " 'page_size': 100,\n",
       " 'result_count': 6,\n",
       " 'total_pages': 1}"
      ]
     },
     "execution_count": 3,
     "metadata": {},
     "output_type": "execute_result"
    }
   ],
   "source": [
    "data"
   ]
  },
  {
   "cell_type": "markdown",
   "metadata": {},
   "source": [
    "To download while showing progress bar, the following python code may be used."
   ]
  },
  {
   "cell_type": "code",
   "execution_count": null,
   "metadata": {
    "collapsed": true
   },
   "outputs": [],
   "source": [
    "from click import progressbar\n",
    "import requests\n",
    "import os\n",
    "from io import BytesIO\n",
    "import tarfile\n",
    "import json\n",
    "\n",
    "ONE_MEGABYTE = 1024 * 1024\n",
    "\n",
    "start_date = '1950-01-03'\n",
    "end_date = '1950-01-10'\n",
    "url = \"https://api.intrinio.com/prices?ticker=$SPX&start_date={}&end_date={}\".format(start_date, end_date)\n",
    "\n",
    "resp = requests.get(url, stream=True,\n",
    "                    auth=(os.environ['INTRINIO_API_USERNAME'], os.environ['INTRINIO_API_PASSWORD']))\n",
    "resp.raise_for_status()\n",
    "\n",
    "total_size = int(resp.headers['content-length'])\n",
    "data_b = BytesIO()\n",
    "with progressbar(length=total_size,\n",
    "                 label=\"Downloading Intrinio prices\") as pbar:\n",
    "    for chunk in resp.iter_content(chunk_size=ONE_MEGABYTE):\n",
    "        data_b.write(chunk)\n",
    "        pbar.update(len(chunk))\n",
    "\n",
    "data_b.seek(0)\n",
    "\n",
    "output_dir = 'intrinio-data'\n",
    "\n",
    "data = json.loads(data_b.getvalue())\n",
    "print(data)"
   ]
  }
 ],
 "metadata": {
  "kernelspec": {
   "display_name": "Python 3",
   "language": "python",
   "name": "python3"
  },
  "language_info": {
   "codemirror_mode": {
    "name": "ipython",
    "version": 3
   },
   "file_extension": ".py",
   "mimetype": "text/x-python",
   "name": "python",
   "nbconvert_exporter": "python",
   "pygments_lexer": "ipython3",
   "version": "3.6.3"
  }
 },
 "nbformat": 4,
 "nbformat_minor": 2
}
