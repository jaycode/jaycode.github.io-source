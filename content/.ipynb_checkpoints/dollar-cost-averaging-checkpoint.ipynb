{
 "cells": [
  {
   "cell_type": "code",
   "execution_count": null,
   "metadata": {
    "collapsed": true
   },
   "outputs": [],
   "source": [
    "Title: Dollar-Cost Averaging\n",
    "Slug: dollar-cost-averaging\n",
    "Date: 2018-03-24\n",
    "Category: finance\n",
    "Tags: finance, defensive investor\n",
    "Author: Jay Teguh Wijaya\n",
    "Summary: \n"
   ]
  }
 ],
 "metadata": {
  "kernelspec": {
   "display_name": "Python 3",
   "language": "python",
   "name": "python3"
  },
  "language_info": {
   "codemirror_mode": {
    "name": "ipython",
    "version": 3
   },
   "file_extension": ".py",
   "mimetype": "text/x-python",
   "name": "python",
   "nbconvert_exporter": "python",
   "pygments_lexer": "ipython3",
   "version": "3.6.3"
  }
 },
 "nbformat": 4,
 "nbformat_minor": 2
}
